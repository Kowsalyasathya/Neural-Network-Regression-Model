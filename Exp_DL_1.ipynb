{
  "cells": [
    {
      "cell_type": "markdown",
      "metadata": {
        "id": "view-in-github",
        "colab_type": "text"
      },
      "source": [
        "<a href=\"https://colab.research.google.com/github/Kowsalyasathya/Neural-Network-Regression-Model/blob/main/Exp_DL_1.ipynb\" target=\"_parent\"><img src=\"https://colab.research.google.com/assets/colab-badge.svg\" alt=\"Open In Colab\"/></a>"
      ]
    },
    {
      "cell_type": "code",
      "execution_count": null,
      "metadata": {
        "id": "imq-92u2ggyw"
      },
      "outputs": [],
      "source": [
        "import torch\n",
        "import torch.nn as nn\n",
        "import torch.optim as optim\n",
        "import pandas as pd\n",
        "from sklearn.model_selection import train_test_split\n",
        "from sklearn.preprocessing import MinMaxScaler"
      ]
    },
    {
      "cell_type": "code",
      "execution_count": null,
      "metadata": {
        "id": "qNkcp0edhR4_"
      },
      "outputs": [],
      "source": [
        "df1=pd.read_csv(\"/content/nn-dl-exp.csv\")\n",
        "X = df1[['input']].values\n",
        "y = df1[['output']].values"
      ]
    },
    {
      "cell_type": "code",
      "execution_count": null,
      "metadata": {
        "id": "f3Xg2jC7hnfC"
      },
      "outputs": [],
      "source": [
        "X_train, X_test, y_train, y_test = train_test_split(X, y, test_size=0.33, random_state=33)"
      ]
    },
    {
      "cell_type": "code",
      "execution_count": null,
      "metadata": {
        "id": "HcuYdvZaiTz0"
      },
      "outputs": [],
      "source": [
        "scaler = MinMaxScaler()\n",
        "X_train = scaler.fit_transform(X_train)\n",
        "X_test =  scaler.transform(X_test)"
      ]
    },
    {
      "cell_type": "code",
      "execution_count": null,
      "metadata": {
        "id": "VL3rddiWistP"
      },
      "outputs": [],
      "source": [
        "X_train_tensor = torch.tensor(X_train, dtype=torch.float32)\n",
        "y_train_tensor = torch.tensor(y_train, dtype=torch.float32).view(-1, 1)\n",
        "X_test_tensor = torch.tensor(X_test, dtype=torch.float32)\n",
        "y_test_tensor = torch.tensor(y_test, dtype=torch.float32).view(-1, 1)"
      ]
    },
    {
      "cell_type": "code",
      "execution_count": null,
      "metadata": {
        "id": "asg7Ef5kjLPq"
      },
      "outputs": [],
      "source": [
        "class NeuralNet(nn.Module):\n",
        "  def __init__(self):\n",
        "    super().__init__()\n",
        "    self.fc1=nn.Linear(1,10)\n",
        "    self.fc2=nn.Linear(10,18)\n",
        "    self.fc3=nn.Linear(18,1)\n",
        "    self.relu=nn.ReLU()\n",
        "    self.history={'loss':[]}\n",
        "\n",
        "  def forward(self,x):\n",
        "    x=self.relu(self.fc1(x))\n",
        "    x=self.relu(self.fc2(x))\n",
        "    x=self.fc3(x)\n",
        "    return x\n"
      ]
    },
    {
      "cell_type": "code",
      "execution_count": null,
      "metadata": {
        "id": "kTqQdr-ylale"
      },
      "outputs": [],
      "source": [
        "ai_brain=NeuralNet()\n",
        "criterion=nn.MSELoss()\n",
        "optimizer=optim.RMSprop(ai_brain.parameters(),lr=0.001)"
      ]
    },
    {
      "cell_type": "code",
      "execution_count": null,
      "metadata": {
        "id": "D9W_KzaSmRnj"
      },
      "outputs": [],
      "source": [
        "def train_model(ai_brain,X_train,y_train,criterion,optimizer,epochs=2000):\n",
        "  for epoch in range(epochs):\n",
        "    optimizer.zero_grad()\n",
        "    loss=criterion(ai_brain(X_train),y_train)\n",
        "    loss.backward()\n",
        "    optimizer.step()\n",
        "\n",
        "    ai_brain.history['loss'].append(loss.item())\n",
        "    if epoch%200==0:\n",
        "      print(f'Epoch [{epoch}/{epochs}], Loss:{loss.item():.6f}')"
      ]
    },
    {
      "cell_type": "code",
      "execution_count": null,
      "metadata": {
        "id": "QlrVxYS7hwji",
        "colab": {
          "base_uri": "https://localhost:8080/"
        },
        "outputId": "104dd777-8fb1-4bd6-c212-e1f984e5ebfd"
      },
      "outputs": [
        {
          "output_type": "stream",
          "name": "stdout",
          "text": [
            "Epoch [0/2000], Loss:15531.679688\n",
            "Epoch [200/2000], Loss:12728.235352\n",
            "Epoch [400/2000], Loss:7805.880371\n",
            "Epoch [600/2000], Loss:3275.476318\n",
            "Epoch [800/2000], Loss:1483.976685\n",
            "Epoch [1000/2000], Loss:1048.419189\n",
            "Epoch [1200/2000], Loss:597.388794\n",
            "Epoch [1400/2000], Loss:232.675232\n",
            "Epoch [1600/2000], Loss:38.165005\n",
            "Epoch [1800/2000], Loss:2.370600\n"
          ]
        }
      ],
      "source": [
        "train_model(ai_brain, X_train_tensor, y_train_tensor, criterion, optimizer)"
      ]
    },
    {
      "cell_type": "code",
      "execution_count": null,
      "metadata": {
        "colab": {
          "base_uri": "https://localhost:8080/"
        },
        "id": "Q4YAlN7Rhwvq",
        "outputId": "56b39a89-6f50-4868-ccd5-714bbd4fb0bf"
      },
      "outputs": [
        {
          "output_type": "stream",
          "name": "stdout",
          "text": [
            "Test Loss: 5.838880\n"
          ]
        }
      ],
      "source": [
        "with torch.no_grad():\n",
        "    test_loss = criterion(ai_brain(X_test_tensor), y_test_tensor)\n",
        "    print(f'Test Loss: {test_loss.item():.6f}')"
      ]
    },
    {
      "cell_type": "code",
      "execution_count": null,
      "metadata": {
        "id": "Aljc9xyFfvC4"
      },
      "outputs": [],
      "source": [
        "loss_df = pd.DataFrame(ai_brain.history)"
      ]
    },
    {
      "cell_type": "code",
      "execution_count": null,
      "metadata": {
        "colab": {
          "base_uri": "https://localhost:8080/",
          "height": 472
        },
        "id": "jlckSVGQfyjP",
        "outputId": "f3f56f5b-065c-4b00-d99f-e83db2cca145"
      },
      "outputs": [
        {
          "output_type": "display_data",
          "data": {
            "text/plain": [
              "<Figure size 640x480 with 1 Axes>"
            ],
            "image/png": "[encoded data removed]"
          },
          "metadata": {}
        }
      ],
      "source": [
        "import matplotlib.pyplot as plt\n",
        "loss_df.plot()\n",
        "plt.xlabel(\"Epochs\")\n",
        "plt.ylabel(\"Loss\")\n",
        "plt.title(\"Loss during Training\")\n",
        "plt.show()"
      ]
    },
    {
      "cell_type": "code",
      "execution_count": null,
      "metadata": {
        "colab": {
          "base_uri": "https://localhost:8080/"
        },
        "id": "lyxBU_VLf2Ko",
        "outputId": "2ebf607e-62d8-4725-cb9c-1d8c94debd2c"
      },
      "outputs": [
        {
          "output_type": "stream",
          "name": "stdout",
          "text": [
            "Prediction1: 30.666837692260742\n"
          ]
        }
      ],
      "source": [
        "X_n1_1 = torch.tensor([[3]], dtype=torch.float32)\n",
        "prediction1 = ai_brain(torch.tensor(scaler.transform(X_n1_1), dtype=torch.float32)).item()\n",
        "print(f'Prediction1: {prediction1}')"
      ]
    },
    {
      "cell_type": "code",
      "execution_count": null,
      "metadata": {
        "colab": {
          "base_uri": "https://localhost:8080/"
        },
        "id": "7JPYEFA4f49A",
        "outputId": "9516990d-29ce-4f55-b20f-6a38e404b21f"
      },
      "outputs": [
        {
          "output_type": "stream",
          "name": "stdout",
          "text": [
            "Prediction2: 50.748355865478516\n"
          ]
        }
      ],
      "source": [
        "X_n1_1 = torch.tensor([[5]], dtype=torch.float32)\n",
        "prediction2 = ai_brain(torch.tensor(scaler.transform(X_n1_1), dtype=torch.float32)).item()\n",
        "print(f'Prediction2: {prediction2}')"
      ]
    },
    {
      "cell_type": "code",
      "execution_count": null,
      "metadata": {
        "id": "aWopJ1Unf_7p"
      },
      "outputs": [],
      "source": []
    }
  ],
  "metadata": {
    "colab": {
      "provenance": [],
      "authorship_tag": "ABX9TyMM+WA3YXKWfTXJzUAuWNZG",
      "include_colab_link": true
    },
    "kernelspec": {
      "display_name": "Python 3",
      "name": "python3"
    },
    "language_info": {
      "name": "python"
    }
  },
  "nbformat": 4,
  "nbformat_minor": 0
}